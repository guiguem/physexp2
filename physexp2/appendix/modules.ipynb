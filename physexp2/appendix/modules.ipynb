{
 "cells": [
  {
   "attachments": {},
   "cell_type": "markdown",
   "metadata": {},
   "source": [
    "# Importation et utilisation de modules\n",
    "\n",
    "<!-- % La je met un truc pour que les scripts python soit dans un sous dossier -->"
   ]
  },
  {
   "cell_type": "code",
   "execution_count": 1,
   "metadata": {
    "tags": [
     "hide-cell"
    ]
   },
   "outputs": [],
   "source": [
    "import os\n",
    "import sys\n",
    "sys.path.append(os.path.join(os.getcwd(),\"../python\"))"
   ]
  },
  {
   "attachments": {},
   "cell_type": "markdown",
   "metadata": {},
   "source": [
    "Dans cette section, nous allons regarder plus en détails le principe et l'utilité des *modules* Python.\n",
    "Nous verrons ensuite quelques exemples de modules particulièrement intéressants.\n",
    "\n",
    "Du fait du nombre d'utilisateurs de Python, de nombreuses fonctionnalités et opérations ont déjà été écrites par d'autres personnes.\n",
    "Pythoon vient bien sur avec une grande quantité de fonctions utilisables grâce à des \\textit{modules}.\n",
    "Ces modules correspondent souvent à des fichiers écrits en Python qu'il suffit d'\\textit{importer} afin d'accéder aux fonctions qu'ils contiennent.\n",
    "Par exemple, le module ```math``` de Python contient un grand nombre de fonctions mathématiques."
   ]
  },
  {
   "cell_type": "code",
   "execution_count": null,
   "metadata": {},
   "outputs": [],
   "source": [
    "import math\n",
    "a=2\n",
    "sqrta = math.sqrt(a)\n",
    "print(\"La racine carrée de\",a,\"est\",sqrta)"
   ]
  },
  {
   "attachments": {},
   "cell_type": "markdown",
   "metadata": {},
   "source": [
    "Ici, on commence par importer le module ```math``` grâce au mot-clé ```import```.\n",
    "Les fonctions contenues dans ce module come ```sqrt``` ou ```sin``` sont alors accessibles comme attributs du module ```math``` (voir Section \\ref{sec:objets}).\n",
    "Il y a bien sur de nombreuses façons d'importer des modules plus explicites et plus économes en ressources.\n",
    "Par exemple, un tutorial sur les méthodes d'importation de modules en Python est disponible [ici](https://docs.python.org/fr/3/tutorial/modules.html).\n",
    "\n",
    "Puisque importer des modules correspond à importer des fichiers en Python, il est possible de créer ses propres modules Python en créant un fichier \"monmodule.py\" (avec \"monmodule\" le nom du module désiré) dans le même dossier que le script dans lequel on veut l'importer.\n",
    "Il suffit ensuite de l'importer grâce à la commande ```import mymodule```.\n",
    "\n",
    "Par exemple, supposons que l'on ait un fichier Python \"multiplier.py\" qui contient une fonction ```carre``` et ```cube``` permettant de calculer des carrés et des cubes de valeurs.\n",
    "Le contenu de ce fichier, situé dans le même dossier que le calepin Jupyter est donné ci-dessous.\n",
    "\n",
    "```python\n",
    "# multiplier.py\n",
    "def carre(a):\n",
    "    return a*a\n",
    "def cube(a):\n",
    "    return a*a*a\n",
    "```\n",
    "On peut ensuite utiliser ces fonctions en important le module \"multiplier\": les fonctions sont ensuite accessibles comme attributs des modules."
   ]
  },
  {
   "cell_type": "code",
   "execution_count": null,
   "metadata": {},
   "outputs": [],
   "source": [
    "import multiplier\n",
    "print(\"Le carré de 2 est\",multiplier.carre(2))\n",
    "print(\"Le cube de 10 est\",multiplier.cube(10))"
   ]
  },
  {
   "attachments": {},
   "cell_type": "markdown",
   "metadata": {},
   "source": [
    "Faisons ici plusieurs remarques sur les propriétés de l'importation.\n",
    "Tout d'abord, il est possible d'utiliser les modules pour autre chose que contenir des fonctions.\n",
    "Par exemple, on  peut créer un module  contenant des variables dans son scope principal et utiliser ces variables après importation.\n",
    "\n",
    "```python\n",
    "# constants.py\n",
    "pi = 3.14156\n",
    "hbar = 1.054e-34\n",
    "c = 299792458\n",
    "```\n",
    "\n",
    "Dans l'exemple ci-dessus, nous avons défini un module \"constants\" qui une fois importé permet d'accéder à des constantes de physique avec la commande ```constants.hbar``` ou ```constants.c```.\n",
    "\n",
    "En revanche il n'est pas possible d'importer des modules de manière hiérarchique: si un module \"B\" importe un module \"A\", l'importation du module \"B\" ne va pas ainsi importer le module \"A\" et le rendre accessible: \"A\" ne restera accessible qu'au sein de \"B\".\n",
    "Pour accéder à \"A\", il faudra donc réimporter \"A\" dans le script Python dans lequel on en a besoin.\n",
    "\n",
    "Il y a de nombreux modules Python qui existent, certains déjà installés, d'autres disponibles sur Internet.\n",
    "Il ne faut pas hésiter à aller voir si des modules qui pourraient vous être utiles existent."
   ]
  }
 ],
 "metadata": {
  "kernelspec": {
   "display_name": "Python 3",
   "language": "python",
   "name": "python3"
  },
  "language_info": {
   "codemirror_mode": {
    "name": "ipython",
    "version": 3
   },
   "file_extension": ".py",
   "mimetype": "text/x-python",
   "name": "python",
   "nbconvert_exporter": "python",
   "pygments_lexer": "ipython3",
   "version": "3.11.0"
  },
  "orig_nbformat": 4,
  "vscode": {
   "interpreter": {
    "hash": "5c7b89af1651d0b8571dde13640ecdccf7d5a6204171d6ab33e7c296e100e08a"
   }
  }
 },
 "nbformat": 4,
 "nbformat_minor": 2
}
