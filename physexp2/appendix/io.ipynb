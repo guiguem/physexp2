{
 "cells": [
  {
   "attachments": {},
   "cell_type": "markdown",
   "metadata": {},
   "source": [
    "# Lecture et écriture de fichiers\n",
    "\n",
    "Il existe de nombreux modules Python qui permettent de lire des fichiers de données; le choix de l'un ou l'autre va dépendre grandement du format de fichiers.\n",
    "En général, vous allez utiliser des fichiers au format csv (pour \"Comma Separated Values\") où les données sont stockées sous forme de tableau dont les colonnes sont séparées par des virgules.\n",
    "\n",
    "## Lecture de fichiers\n",
    "\n",
    "Pour ce type de fichiers, on peut utiliser le module ```pandas```."
   ]
  },
  {
   "cell_type": "code",
   "execution_count": 1,
   "metadata": {},
   "outputs": [
    {
     "ename": "ModuleNotFoundError",
     "evalue": "No module named 'pandas'",
     "output_type": "error",
     "traceback": [
      "\u001b[0;31m---------------------------------------------------------------------------\u001b[0m",
      "\u001b[0;31mModuleNotFoundError\u001b[0m                       Traceback (most recent call last)",
      "Cell \u001b[0;32mIn[1], line 1\u001b[0m\n\u001b[0;32m----> 1\u001b[0m \u001b[39mimport\u001b[39;00m \u001b[39mpandas\u001b[39;00m\n\u001b[1;32m      2\u001b[0m \u001b[39m# lecture du fichier par pandas\u001b[39;00m\n\u001b[1;32m      3\u001b[0m data \u001b[39m=\u001b[39m pandas\u001b[39m.\u001b[39mread_csv(\u001b[39m\"\u001b[39m\u001b[39m../data/simple_meteo.csv\u001b[39m\u001b[39m\"\u001b[39m) \n",
      "\u001b[0;31mModuleNotFoundError\u001b[0m: No module named 'pandas'"
     ]
    }
   ],
   "source": [
    "import pandas\n",
    "# lecture du fichier par pandas\n",
    "data = pandas.read_csv(\"../data/simple_meteo.csv\") \n",
    "print(\"Noms des colones:\") # affichage des noms de chacune des colonnes\n",
    "for name in data.columns:\n",
    "    print(\"  \", name)\n",
    "print(\"Données dans le fichier:\") # affichage du tableau de données\n",
    "print(data)\n",
    "temperature = data[\"Paris Temperature\"].to_list() # extraction des températures \n",
    "# et conversion en liste python\n",
    "print(\"Nombre de températures:\", len(temperature))\n",
    "print(\"Deux premières températures:\", temperature[0:2])\n"
   ]
  },
  {
   "attachments": {},
   "cell_type": "markdown",
   "metadata": {},
   "source": [
    "La variable ```data``` est un objet ```DataFrame``` et contient alors toutes les données extraites du fichier ```simple_meteo.csv``` qui se trouve dans le sous-dossier ```data/appendix``` [^location].\n",
    "Cette variable se comporte presque comme un dictionnaire, mais avec quelques fonctions supplémentaires.\n",
    "On peut récupérer les noms des colonnes grâce à ```data.columns```: cela permet ensuite de récupérer les données plus facilement.\n",
    "\n",
    "On peut alors utilser plusieurs méthodes: \n",
    "\n",
    "- transformer les \"colonnes\" de données en liste: ```to_list()```,\n",
    "- ajouter des nouvelles données avec la méthode ```append(autre_données, ignore_index=True)``` (voir [ici](https://pandas.pydata.org/docs/reference/api/pandas.DataFrame.append.html) pour plus de détails.}\n",
    "\n",
    "## Ecriture de fichiers\n",
    "\n",
    "Il est possible de sauvegarder des ```DataFrame``` dans des fichiers au format csv avec ```pandas``` en utilisant la fonction ```to_csv```:"
   ]
  },
  {
   "cell_type": "code",
   "execution_count": null,
   "metadata": {},
   "outputs": [],
   "source": [
    "data.to_csv(\"../data/new_meteo.csv\")"
   ]
  },
  {
   "attachments": {},
   "cell_type": "markdown",
   "metadata": {},
   "source": [
    "Avec cette méthode, la lecture du fichier pourra se faire avec ```pandas``` sans problème.\n",
    "\n",
    "[^location]: Il est important de faire attention à l'endroit d'où on exécute le script Python: en effet, si on change d'endroit, le chemin du fichier donné à la fonction ```read_csv``` ne peut ne plus correspondre à un fichier existant.\n",
    "Dans Jupyter Notebook, le chemin à donner est relatif à l'endroit où se trouve le notebook.\n",
    "Pour choisir l'endroit d'où l'on exécute le script python dans Spyder, on utilise la barre de chemin en haut à gauche."
   ]
  }
 ],
 "metadata": {
  "kernelspec": {
   "display_name": "Python 3",
   "language": "python",
   "name": "python3"
  },
  "language_info": {
   "codemirror_mode": {
    "name": "ipython",
    "version": 3
   },
   "file_extension": ".py",
   "mimetype": "text/x-python",
   "name": "python",
   "nbconvert_exporter": "python",
   "pygments_lexer": "ipython3",
   "version": "3.11.0"
  },
  "orig_nbformat": 4,
  "vscode": {
   "interpreter": {
    "hash": "5c7b89af1651d0b8571dde13640ecdccf7d5a6204171d6ab33e7c296e100e08a"
   }
  }
 },
 "nbformat": 4,
 "nbformat_minor": 2
}
