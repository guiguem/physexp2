{
 "cells": [
  {
   "attachments": {},
   "cell_type": "markdown",
   "metadata": {},
   "source": [
    "(content:variable-types)=\n",
    "# Types de variables\n",
    "\n",
    "Nous allons maintenant décrire quelques uns des types de variables les plus utilisés en Python et dont nous aurons besoin durant ce cours:\n",
    "\n",
    "- **entiers:** ce sont les nombres entiers avec un signe (ex: 0, -1, 42)\n",
    "- **floats:** ce sont les nombres décimaux avex un signe (ex: 0.0, -1.96, 42e9).\n",
    "    Ces nombres ne sont pas représentés exactement (i.e. avec toutes leurs décimales) et sont souvent arrondis lorsqu'ils sont représentés.\n",
    "- **booléens:** ce sont des variables ```True``` ou ```False```, très utiles lors des tests avec ```if``` (voir Section \\ref{sec:ifelifelse}).\n",
    "- **strings:** ce sont des chaines de caractères définies par des guillemets (ex: ```\"bonjour\"```).\n",
    "- **listes:** ce sont des tableaux de valeurs (voir Section [](content:liste)).\n",
    "- **dictionaries:** ce sont des listes dont les indices ne sont pas des nombres mais des variables comme des chaines de caractères (voir Section [](content:dictionaries))\n",
    "\n",
    "(content:liste)=\n",
    "## Listes\n",
    "\n",
    "Un type de variable particulièrement utile en Python est la *liste* qui est équivalente au tableau (\"array\") présent dans d'autres langages de programmation.\n",
    "Une liste sert à contenir une liste de valeurs ou de variables.\n"
   ]
  },
  {
   "cell_type": "code",
   "execution_count": null,
   "metadata": {},
   "outputs": [],
   "source": [
    "radii = [0.9,1.0,0.95,1.1,1.2,1.0,0.8,0.85,1.05,1.0]"
   ]
  },
  {
   "attachments": {},
   "cell_type": "markdown",
   "metadata": {},
   "source": [
    "La présence de crochets entourant des valeurs séparées par des virgules est interprété par Python comme la construction d'une liste, cette liste étant ensuite assignée à la variable \\pyv{radii}.\n",
    "\n",
    "Cette liste est ordonnée au sens où l'on peut récupérer des valeurs particulières de cette liste en utilisant le numéro de l'élément.\n"
   ]
  },
  {
   "attachments": {},
   "cell_type": "markdown",
   "metadata": {},
   "source": [
    "print(\"Premiere valeur:\",radii[0])\n",
    "print(\"Troisieme valeur:\",radii[2])"
   ]
  },
  {
   "attachments": {},
   "cell_type": "markdown",
   "metadata": {},
   "source": [
    "Comme beaucoup de langages de programmation, Python définit le premier élément d'une liste par l'index 0.\n",
    "Par conséquent, si une liste a ```n``` éléments, on pourra récupérer le dernier élément de cette liste avec l'index ```n-1```.\n",
    "Si en revanche on essaye de récupérer l'index ```n``` ou plus, on va obtenir une erreur."
   ]
  },
  {
   "cell_type": "code",
   "execution_count": null,
   "metadata": {
    "tags": [
     "raises-exception"
    ]
   },
   "outputs": [],
   "source": [
    "print(radii[10])\n"
   ]
  },
  {
   "attachments": {},
   "cell_type": "markdown",
   "metadata": {},
   "source": [
    "Cette erreur indique que l'index donné est en dehors de la \"range\" (portée) de la liste.\n",
    "\n",
    "Il est toujours possible de récupérer la taille d'une liste en utilisant la fonction ```len()```."
   ]
  },
  {
   "cell_type": "code",
   "execution_count": null,
   "metadata": {},
   "outputs": [],
   "source": [
    "ma_liste = [1, 2, 3, 4]\n",
    "print(\"Ma liste a\", len(ma_liste), \"elements.\")"
   ]
  },
  {
   "attachments": {},
   "cell_type": "markdown",
   "metadata": {},
   "source": [
    "````{exercise}\n",
    ":label: avant-dernier\n",
    "Si on se donne une liste avec un nombre d'éléments inconnus, comment récupérer l'avant-dernier élément?\n",
    "````\n",
    "\n",
    "````{solution} avant-dernier\n",
    ":class: dropdown\n",
    "\n",
    "Puisque l'index du dernier élément de ```maliste``` est ```len(maliste)-1```, on peut récupérer l'avant-dernier élément avec:\n",
    "\n",
    "```{code-block} python\n",
    "maliste = [1, 2, 3, 4]\n",
    "maliste[len(maliste)-2]\n",
    "```\n",
    "````"
   ]
  },
  {
   "attachments": {},
   "cell_type": "markdown",
   "metadata": {},
   "source": [
    "Un certain nombre de fonctions a été défini afin de simplifier la manipulation de listes.\n",
    "L'exemple ci-dessous contient quelques unes de ces fonctions; testez les une par une afin de comprendre leur fonctionnement."
   ]
  },
  {
   "cell_type": "code",
   "execution_count": null,
   "metadata": {},
   "outputs": [],
   "source": [
    "array=[1,2,3,4,5,6]\n",
    "array.append(7)\n",
    "print(\"La liste est maintenant:\",array)\n",
    "array.pop(5)\n",
    "print(\"La liste est maintenant:\",array)\n",
    "array.pop()\n",
    "print(\"La liste est maintenant:\",array)\n",
    "array.insert(3,9)\n",
    "print(\"La liste est maintenant:\",array)"
   ]
  },
  {
   "attachments": {},
   "cell_type": "markdown",
   "metadata": {},
   "source": [
    "D'autres fonctions permettent d'inverser l'ordre des éléments d'une liste ou de trier leur contenu."
   ]
  },
  {
   "cell_type": "code",
   "execution_count": null,
   "metadata": {},
   "outputs": [],
   "source": [
    "#Inverser l'ordre des elements de la liste\n",
    "array.reverse()\n",
    "print(\"La liste est maintenant:\",array)\n",
    "#Trier la liste\n",
    "array.sort()\n",
    "print(\"La liste est maintenant:\",array)\n",
    "#Creer une sous-liste a partir d'une liste\n",
    "subarray=array[2:4]\n",
    "print(\"La sous-liste est:\",subarray)"
   ]
  },
  {
   "attachments": {},
   "cell_type": "markdown",
   "metadata": {},
   "source": [
    "Un point très important est qu'une liste peut contenir différents types de variables *simultanément*."
   ]
  },
  {
   "cell_type": "code",
   "execution_count": null,
   "metadata": {},
   "outputs": [],
   "source": [
    "petiteliste = [1, 2, 3]\n",
    "listemixte = [\"pomme\", 3, petiteliste]\n",
    "print(\"Contenu de listemixte:\",listemixte)"
   ]
  },
  {
   "attachments": {},
   "cell_type": "markdown",
   "metadata": {},
   "source": [
    "(content:dictionaries)=\n",
    "## Dictionnaires\n",
    "\n",
    "Comme expliqué plus haut, les dictionnaires sont similaires à des listes mais dont les indices ne sont pas forcément des entiers.\n",
    "En effet, chaque entrée d'un dictionnaire est composée d'une clé et d'une valeur.\n",
    "Cette organisation permet de contenir plus d'information, puisque chaque valeur possède une clé.\n",
    "On accède donc aux éléments du dictionnaire piur consulter l'élément ou bien le modifier grâce à cette clé."
   ]
  },
  {
   "cell_type": "code",
   "execution_count": null,
   "metadata": {},
   "outputs": [],
   "source": [
    "dictionaire = {\"mario\": 1.50, \"luigi\": 1.80}\n",
    "print(\"Dictionaire:\", dictionaire)\n",
    "dictionaire[\"luigi\"] = 1.78 # correction de la taille de luigi\n",
    "dictionaire[\"peach\"] = 1.60 # ajout d'une nouvelle taille\n",
    "print(\"Dictionaire à jour:\", dictionaire)\n",
    "print(\"Taille de Luigi:\",dictionaire[\"luigi\"])"
   ]
  },
  {
   "attachments": {},
   "cell_type": "markdown",
   "metadata": {},
   "source": [
    "Comme ce ne sont pas des listes et donc on ne connait pas à priori les indices de celui-ci, on utilise la fonction ```keys()``` pour l'obtenir."
   ]
  },
  {
   "cell_type": "code",
   "execution_count": null,
   "metadata": {},
   "outputs": [],
   "source": [
    "dictionaire = {'mario': 1.5, 'luigi': 1.78, 'peach': 1.6}\n",
    "print(\"Cles:\",dictionaire.keys())"
   ]
  },
  {
   "attachments": {},
   "cell_type": "markdown",
   "metadata": {},
   "source": [
    "\n",
    "La méthode ```update()``` permet de *mettre à jour* un dictionaire: si les clés données en argument de la méthode sont déjà présents dans le dictionaire, les valeurs associées seront mises à jour; sinon elles seront ajoutées au dictionnaire."
   ]
  },
  {
   "cell_type": "code",
   "execution_count": null,
   "metadata": {},
   "outputs": [],
   "source": [
    "prix = {\"peche\": 1.90, \"courgette\": 2.10}\n",
    "print(\"Prix:\",prix)\n",
    "# Mise a jour des prix\n",
    "mis_a_jour = {\"peche\": 20.5, \"chips\": 1.10}\n",
    "prix.update(mis_a_jour)\n",
    "print(\"Nouveaux prix:\",prix)"
   ]
  },
  {
   "attachments": {},
   "cell_type": "markdown",
   "metadata": {},
   "source": [
    "Par construction du dictionnaire, il est donc **impossible d'avoir deux clés identiques** dans un dictionnaire et de la même façon qu'une liste, si on essaye de récupérer une clé qui n'est pas dans le dictionnaire, on va obtenir une erreur."
   ]
  },
  {
   "cell_type": "code",
   "execution_count": 1,
   "metadata": {
    "tags": [
     "raises-exception"
    ]
   },
   "outputs": [],
   "source": [
    "prix = {\"peche\": 2.05, \"courgette\": 2.10, \"chips\": 1.10}\n",
    "print(prix[\"pomme\"])"
   ]
  },
  {
   "cell_type": "code",
   "execution_count": null,
   "metadata": {},
   "outputs": [],
   "source": []
  }
 ],
 "metadata": {
  "kernelspec": {
   "display_name": "Python 3",
   "language": "python",
   "name": "python3"
  },
  "language_info": {
   "codemirror_mode": {
    "name": "ipython",
    "version": 3
   },
   "file_extension": ".py",
   "mimetype": "text/x-python",
   "name": "python",
   "nbconvert_exporter": "python",
   "pygments_lexer": "ipython3",
   "version": "3.11.0"
  },
  "orig_nbformat": 4,
  "vscode": {
   "interpreter": {
    "hash": "5c7b89af1651d0b8571dde13640ecdccf7d5a6204171d6ab33e7c296e100e08a"
   }
  }
 },
 "nbformat": 4,
 "nbformat_minor": 2
}
