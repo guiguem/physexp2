{
 "cells": [
  {
   "attachments": {},
   "cell_type": "markdown",
   "metadata": {},
   "source": [
    "# Modules utiles\n",
    "\n",
    "## Numpy\n",
    "\n",
    "[Numpy](https://numpy.org/doc/stable/) est un module dédié au traitement des données, notamment la gestion de listes et tableaux.\n",
    "Il est notamment plus rapide que des remplissages de listes avec des boucles ```for```.\n",
    "Il fournit aussi des fonctionalités utiles comme la création de listes de variables aléatoires ```nump.random``` ou de fonctions usuelles comme ```sin``` ou ```cos```.\n",
    "\n",
    "(content:matplotlib)=\n",
    "## Matplotlib\n",
    "\n",
    "[Matplotlib](https://matplotlib.org/) est un module simple permettant de créer des figures, de les afficher et de les sauvegarder.\n",
    "Ce module propose de nombreuses façons de faire des figures, il est donc utile de regarder la documentation.\n",
    "\n",
    "### Tracer une courbe\n",
    "\n",
    "L'exemple ci-dessous permet de produire la figure ci-dessous représentant un sinus et un cosinus entre 0 et 20."
   ]
  },
  {
   "cell_type": "code",
   "execution_count": 1,
   "metadata": {},
   "outputs": [
    {
     "ename": "ModuleNotFoundError",
     "evalue": "No module named 'matplotlib'",
     "output_type": "error",
     "traceback": [
      "\u001b[0;31m---------------------------------------------------------------------------\u001b[0m",
      "\u001b[0;31mModuleNotFoundError\u001b[0m                       Traceback (most recent call last)",
      "Cell \u001b[0;32mIn[1], line 1\u001b[0m\n\u001b[0;32m----> 1\u001b[0m \u001b[39mimport\u001b[39;00m \u001b[39mmatplotlib\u001b[39;00m\u001b[39m.\u001b[39;00m\u001b[39mpyplot\u001b[39;00m \u001b[39mas\u001b[39;00m \u001b[39mplt\u001b[39;00m \u001b[39m# importer maplotlib\u001b[39;00m\n\u001b[1;32m      2\u001b[0m \u001b[39mimport\u001b[39;00m \u001b[39mnumpy\u001b[39;00m \u001b[39mas\u001b[39;00m \u001b[39mnp\u001b[39;00m\n\u001b[1;32m      4\u001b[0m \u001b[39mdef\u001b[39;00m \u001b[39mf\u001b[39m(x):  \u001b[39m# definition de la fonction\u001b[39;00m\n",
      "\u001b[0;31mModuleNotFoundError\u001b[0m: No module named 'matplotlib'"
     ]
    }
   ],
   "source": [
    "import matplotlib.pyplot as plt # importer maplotlib\n",
    "import numpy as np\n",
    "\n",
    "def f(x):  # definition de la fonction\n",
    "    return np.sin(x)\n",
    "\n",
    "x = [ 0.2*i for i in range(0,100) ] # liste d'abscisses de la figure\n",
    "y1 = f(x)                           # calcul de y = f(x)\n",
    "y2 = [ np.cos(val) for val in x ]   # calcul de y = cos(x)\n",
    "\n",
    "fig, ax = plt.subplots() # creation d'un plot\n",
    "ax.plot(x,y1,\"--o\",label=\"sin(x)\") # plot de y1 vs x\n",
    "ax.plot(x,y2,\"-x\",label=\"cos(x)\")  # plot de y2 vs x\n",
    "ax.set_xlabel('Variable x') # titre de l'axe x\n",
    "ax.set_ylabel('Sinus(x) et cosinus(x)') # titre de l'axe y\n",
    "leg = ax.legend()   # creation de la légende\n",
    "fig.savefig(\"mafigure.pdf\") # sauvegarder la figure"
   ]
  },
  {
   "attachments": {},
   "cell_type": "markdown",
   "metadata": {},
   "source": [
    "Les figures sont produites grâce à des points qu'il faut calculer d'abord.\n",
    "Ces points sont placés dans deux listes: une pour les points d'abscisses et une pour les points d'ordonnées.\n",
    "Bien évidemment la taille de chacune des listes doit être identique; si ce n'est pas le cas, Python produira une erreur.\n",
    "\n",
    "La fonction ```plt.subplots()``` créé et donne en sortie la figure (l'image totale, si on veut) ainsi que ses axes.\n",
    "On peut alors utiliser ces objets et les méthodes associées:\n",
    "\n",
    "- ```ax.set_xlabel(\"titre x\")``` et ```ax.set_ylabel(\"titre y\")``` pour changer les titres des axes,\n",
    "- ```ax.legend()``` pour afficher la légende,\n",
    "- ```ax.plot(...)``` pour créer la figure,\n",
    "- ```fig.show()``` pour afficher la figure à l'écran,\n",
    "- ```fig.savefig(\"nom.format\")``` pour sauver la figure.\n",
    "\n",
    "### Tracer un histogramme\n",
    "\n",
    "Dans l'exemple suivant, un histogramme contenant des données générés à partir d'une loi de probabilité normale est créé.\n",
    "On affiche sur cette figure la densité de probabilité associée.\n"
   ]
  },
  {
   "cell_type": "code",
   "execution_count": null,
   "metadata": {},
   "outputs": [],
   "source": [
    "import matplotlib.pyplot as plt # importer maplotlib\n",
    "import numpy as np\n",
    "from scipy import stats\n",
    "N_points = 100000\n",
    "n_bins = 30\n",
    "\n",
    "# Generer une distribution normale\n",
    "val = np.random.randn(N_points)\n",
    "# Définir la courbe d'une distribution normale\n",
    "x = np.linspace(-5,5,100)\n",
    "y = stats.norm.pdf(x)\n",
    "\n",
    "fig, axs = plt.subplots(sharey=True, tight_layout=True)\n",
    "\n",
    "# Tracé de l'histogramme\n",
    "axs.hist(val, bins=n_bins, density=True, label=\"données\")\n",
    "axs.plot(x, y, label = \"probabilité\")\n",
    "leg = axs.legend()   # creation de la légende\n",
    "fig.savefig(\"exemple_hist.pdf\") # sauvegarder la figure\n"
   ]
  },
  {
   "attachments": {},
   "cell_type": "markdown",
   "metadata": {},
   "source": [
    "Le nombre de bins d'un histogramme peut etre donné comme argument de la function ```hist()```; si aucun nombre est donné, matplotlib choisira le nombre de bins.\n",
    "Ici, on utilise le paramètre ```density``` qui permet de normaliser l'histogramme tel que son intégrale vaut 1.\n",
    "\n",
    "\n",
    "## Scipy\n",
    "\n",
    "La librairie [Scipy](https://www.scipy.org/) contient des algorithms utiles pour les sciences en général.\n",
    "Parmi ceux-ci, nous allons utiliser souvent les algorithmes d'optimisation venant du module ```scipy.optimize```: plus d'informations sur la [page de documentation](https://docs.scipy.org/doc/scipy/reference/optimize.html) du module.\n",
    "\n",
    "(content:qexpy)=\n",
    "## QExPy\n",
    "\n",
    "Un module intéressant pour la physique expérimentale est [QExPy](https://qexpy.readthedocs.io/en/latest/intro.html) (pour \"Queen's Experimental Physics\").\n",
    "Ce module pour Python 3 recueille de nombreux outils permettant, entre autres, de faire facilement et rapidement des analyses de données et des propagations de données.\n",
    "Au cours des différents exercices et travaux pratiques, nous allons voir plusieurs des fonctionalités de ce module; nous résumons ici ceux d'intérêt.\n",
    "\n",
    "### Définition de données et propagation des erreurs\n",
    "\n",
    "Le point de départ pour les analyses de données est un ensemble de mesures expérimentales: QExPy définit ce type d'objet grâce à la function ```Measurement```.\n",
    "Dans l'exemple suivant, on se donne une série de 6 mesures de vitesses.\n"
   ]
  },
  {
   "cell_type": "code",
   "execution_count": null,
   "metadata": {},
   "outputs": [],
   "source": [
    "import qexpy\n",
    "liste_donnees = [3.1, 2.9, 3.0, 2.87, 3.02, 3.01]\n",
    "v = qexpy.Measurement(liste_donnees, unit=\"m/s\", name=\"vitesse\")\n",
    "print(\"Moyenne: {}\".format(v.mean))\n",
    "print(\"Erreur sur la moyenne: {}\".format(v.error_on_mean))\n",
    "print(\"Déviation standard: {}\".format(v.std))\n",
    "print(v)"
   ]
  },
  {
   "attachments": {},
   "cell_type": "markdown",
   "metadata": {},
   "source": [
    "\n",
    "La variable ```v``` a plusieurs attributs utiles, comme le calcul de la moyenne ```mean``` ou de l'erreur sur la moyenne ```error_on_mean``` comme défini par l'équation {eq}`erreur-moyenne`.\n",
    "L'affichage de la variable par ```print``` montre la valeur moyenne de cette série de mesures ainsi que l'erreur sur cette moyenne.\n",
    "\n",
    "On peut utiliser cet outil pour faire des calculs de propagation d'erreurs (voir la Section [](content:propagation-erreurs)).\n",
    "Par exemple, si on mesure deux masses $m_1$ et $m_2$ à plusieurs reprises, on peut en déduire l'erreur sur la somme de ces deux masses $M = m1+m_2$:"
   ]
  },
  {
   "cell_type": "code",
   "execution_count": null,
   "metadata": {},
   "outputs": [],
   "source": [
    "\n",
    "import qexpy\n",
    "liste_m1 = [5.2, 5.6, 6, 5.5, 5.1, 6.1]\n",
    "liste_m2 = [1.2, 1.5, 2.1, 1.4, 1.3, 2.4]\n",
    "m1 = qexpy.Measurement(liste_m1, unit=\"kg\", name=\"m1\")\n",
    "m2 = qexpy.Measurement(liste_m2, unit=\"kg\", name=\"m2\")\n",
    "\n",
    "M = m1 + m2\n",
    "M.name = \"Masse totale\"\n",
    "\n",
    "qexpy.set_sig_figs_for_error(3) # definir le nombre de chiffres significatifs\n",
    "print(m1)\n",
    "print(m2)\n",
    "print(M)"
   ]
  },
  {
   "attachments": {},
   "cell_type": "markdown",
   "metadata": {},
   "source": [
    "L'erreur sur la quantité $M$ est alors calculée sans corrélation entre les mesures, c'est-à-dire avec l'équation {eq}`propagation-erreur-non-correlee`.\n",
    "\n",
    "Cependant, il se peut que les mesures soient corrélées entre elles, ce qui a l'air d'être le cas dans les deux jeux de données ```m1``` et ```m2```.\n",
    "Il est alors nécessaire de rajouter les corrélations dans le calcul; une fois fait, le module va utiliser l'équation {eq}`propagation-erreur-correlee` pour recalculer l'erreur.\n"
   ]
  },
  {
   "cell_type": "code",
   "execution_count": null,
   "metadata": {},
   "outputs": [],
   "source": [
    "qexpy.set_correlation(m1, m2) # explicitation des correlations\n",
    "M.recalculate()\n",
    "print(M)\n",
    "cor = qexpy.get_correlation(m1, m2) # Calcul explicite de la correlation\n",
    "cov = qexpy.get_covariance(m1, m2) # Calcul explicite de la covariance\n",
    "print(\"Covariance: {}\\nCorrelation: {}\".format(cov, cor))"
   ]
  },
  {
   "attachments": {},
   "cell_type": "markdown",
   "metadata": {},
   "source": [
    "\n",
    "On peut voir que les données sont presque entièrement corrélées et que la nouvelle erreur est plus grande que celle sans corrélation.\n",
    "\n",
    "Une autre méthode pour calculer les erreurs propagées consiste à utiliser une simulation Monte Carlo.\n",
    "Cette méthode consiste à générer un grand nombre de valeurs de $m_1$ et $m_2$ en supposant qu'elles sont distribuées selon des lois normales dont la moyenne et l'écart type sont calculés comme précédemment; on calcule ensuite $M = m_1+m_2$ pour chaques valeurs générées\n",
    "Dans ce cas, QExPy permet de faire cela aussi:\n"
   ]
  },
  {
   "cell_type": "code",
   "execution_count": null,
   "metadata": {},
   "outputs": [],
   "source": [
    "\n",
    "M.recalculate()\n",
    "qexpy.set_error_method(qexpy.ErrorMethod.MONTE_CARLO)\n",
    "print(M)\n",
    "# permet d'afficher un histogramme des échantillons du Monte Carlo\n",
    "# M.mc.show_histogram() "
   ]
  },
  {
   "attachments": {},
   "cell_type": "markdown",
   "metadata": {},
   "source": [
    "Il est possible de récupérer les valeurs du Monte Carlo en utilisant ```M.mc.samples()```; la figure ci-dessous montre la distribution des valeurs de $M$ issues du Monte Carlo.\n"
   ]
  },
  {
   "cell_type": "code",
   "execution_count": null,
   "metadata": {
    "tags": [
     "hide-input"
    ]
   },
   "outputs": [],
   "source": [
    "fig, axs = plt.subplots(sharey=True, tight_layout=True)\n",
    "axs.hist(M.mc.samples(), bins=n_bins, density=True, label=\"Monte Carlo\")\n",
    "axs.set_xlabel('M') # titre de l'axe x\n",
    "leg = axs.legend()   # creation de la légende\n"
   ]
  },
  {
   "attachments": {},
   "cell_type": "markdown",
   "metadata": {},
   "source": [
    "(content:qexpyfigure)=\n",
    "### Figures avec barres d'erreur et ajustements\n",
    "\n",
    "QExPy vise à augmenter les fonctionalités d'affichage de figures notamment en permettant la définition de barres d'erreur sur des mesures.\n",
    "On peut en effet définir des jeux de données correspondant à des mesures simultanées des quantités $X$ et $Y$ et que l'on arrive à extraire une erreur sur chaque valeur de $Y$.\n"
   ]
  },
  {
   "cell_type": "code",
   "execution_count": null,
   "metadata": {},
   "outputs": [],
   "source": [
    "import qexpy\n",
    "import qexpy.plotting as qplt\n",
    "\n",
    "liste_t = [5.2, 5.6, 6, 5.5, 5.1, 6.1] # liste des x\n",
    "liste_erreur_t = [0.05]*6 # liste des erreurs sur x\n",
    "liste_d = [1.2, 1.5, 2.1, 1.4, 1.3, 2.4] # liste des y\n",
    "liste_erreur_d = [0.2, 0.3, 0.4, 0.2, 0.2, 0.5] # liste des erreurs sur y\n",
    "t = qexpy.MeasurementArray(liste_t, error=liste_erreur_t, unit=\"s\", name=\"t\")\n",
    "d = qexpy.MeasurementArray(liste_d, error=liste_erreur_d, unit=\"m\", name=\"d\")\n",
    "\n",
    "qplt.plot(t, d, name=\"Distance vs temps\") # tracé de y vs x\n",
    "qplt.show()"
   ]
  },
  {
   "attachments": {},
   "cell_type": "markdown",
   "metadata": {},
   "source": [
    "QExPy se comporte de façon très similaire à Matplotlib et permet de produire des graphes comme sur la figure ci-dessus.\n",
    "\n",
    "QExPy propose quelques ajustements de données simples:\n",
    "\n",
    "- modèle linéaire $y=ax+b$,\n",
    "- modèle quadratique $y=ax^2+bx+c$,\n",
    "- modèle polynomial d'ordre $n$,\n",
    "- modèle gaussien,\n",
    "- modèle exponentiel $y=ae^{-bx}$.\n",
    "\n",
    "Ces ajustements peuvent donc être fait à la méthode ```fit```: cette méthode va alors appliquer l'ajustement sur le dernier jeu de données ajouté à la figure, comme montré sur la figure ci-dessous.\n"
   ]
  },
  {
   "cell_type": "code",
   "execution_count": null,
   "metadata": {},
   "outputs": [],
   "source": [
    "import qexpy\n",
    "import qexpy.plotting as qplt\n",
    "\n",
    "liste_t = [5.2, 5.6, 6, 5.5, 5.1, 6.1] # liste des x\n",
    "liste_d = [1.2, 1.5, 2.1, 1.4, 1.3, 2.4] # liste des y\n",
    "liste_erreur_d = [0.2, 0.3, 0.4, 0.2, 0.2, 0.5] # liste des erreurs sur y\n",
    "t = qexpy.MeasurementArray(liste_t, unit=\"s\", name=\"t\")\n",
    "d = qexpy.MeasurementArray(liste_d, error=liste_erreur_d, unit=\"m\", name=\"d\")\n",
    "\n",
    "qplt.plot(t, d, name=\"Distance vs temps\") # tracé de y vs x\n",
    "figure = qplt.get_plot()\n",
    "resultats = figure.fit(model=qexpy.FitModel.LINEAR)\n",
    "print(\"Afichage des résultats:\\n\",resultats)\n",
    "figure.show()"
   ]
  },
  {
   "attachments": {},
   "cell_type": "markdown",
   "metadata": {},
   "source": [
    "La figure montre le résultat de l'ajustement fait par QExPy.\n",
    "La zone bleue correspond à la zone de confiance du modèle obtenu après l'ajustement, en faisant varier la pente et l'ordonnée à l'origine d'une quantité égale à leur erreur.\n",
    "\n",
    "Il est possible de définir soi-même la fonction à utiliser comme modèle de l'ajustement et d'utiliser QExPy pour procéder à l'ajustement."
   ]
  },
  {
   "cell_type": "code",
   "execution_count": null,
   "metadata": {},
   "outputs": [],
   "source": [
    "import qexpy\n",
    "import qexpy.plotting as qplt\n",
    "\n",
    "# fonction sinus du fit avec les noms des paramètres\n",
    "def func(x, masse, longueur):\n",
    "    return masse * qexpy.sin(longueur * x)\n",
    "\n",
    "xdata=[0.00,0.33,0.66,0.99,1.32,1.65,1.98,2.31,2.64,2.97,3.31,\n",
    "           3.64,3.97,4.30,4.63,4.96,5.29,5.62,5.95,6.28]\n",
    "ydata=[0.09,0.41,1.53,2.23,3.76,2.50,3.89,5.33,5.39,4.05,5.08,\n",
    "           5.84,4.59,4.50,3.48,3.57,2.20,1.95,0.39,-0.18]\n",
    "# definition des listes de mesures\n",
    "x = qexpy.MeasurementArray(xdata, name=\"x\")\n",
    "y = qexpy.MeasurementArray(ydata, name=\"y\")\n",
    "\n",
    "qplt.plot(x, y, name=\"Oscillogramme\") # tracé de y vs x\n",
    "figure = qplt.get_plot()\n",
    "resultats = figure.fit(model=func, parguess=[1, 1], \n",
    "            parunits=[\"kg\", \"m\"])\n",
    "print(\"Afichage des résultats:\\n\",resultats)\n",
    "figure.show()\n"
   ]
  },
  {
   "attachments": {},
   "cell_type": "markdown",
   "metadata": {},
   "source": [
    "La figure montre le résultat de l'ajustement du modèle $y = \\mathrm{masse} \\times \\sin(\\mathrm{longueur} \\times x)$ avec $\\mathrm{masse}$ et $\\mathrm{longueur}$ les deux paramètres libres du modèle.\n",
    "Remarquons ici que, si aucun nom de paramètres est donné lors de l'ajustement, QExPy nommera le nom des paramètres en utilisant le nom des variables de la fonction ```func``` (ici, ```masse``` et ```longueur```)."
   ]
  }
 ],
 "metadata": {
  "kernelspec": {
   "display_name": "Python 3",
   "language": "python",
   "name": "python3"
  },
  "language_info": {
   "codemirror_mode": {
    "name": "ipython",
    "version": 3
   },
   "file_extension": ".py",
   "mimetype": "text/x-python",
   "name": "python",
   "nbconvert_exporter": "python",
   "pygments_lexer": "ipython3",
   "version": "3.11.0"
  },
  "orig_nbformat": 4,
  "vscode": {
   "interpreter": {
    "hash": "5c7b89af1651d0b8571dde13640ecdccf7d5a6204171d6ab33e7c296e100e08a"
   }
  }
 },
 "nbformat": 4,
 "nbformat_minor": 2
}
