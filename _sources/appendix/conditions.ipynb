{
 "cells": [
  {
   "attachments": {},
   "cell_type": "markdown",
   "metadata": {},
   "source": [
    "# Conditionalité, répétition et fonctions\n",
    "\n",
    "Les programmes que l'on peut écrire avec seulement l'assignation de valeurs sont assez simples.\n",
    "Afin de pouvoir créer des programmes plus complexes, il est nécessaire de pouvoir demander au programme de faire des choses selon la valeur de certaines variables ou bien de répéter des opérations.\n",
    "Pour cela certains mots-clés permettant de définir ce type de comportement existent en Python.\n",
    "\n",
    "## Scopes\n",
    "\n",
    "On peut définir des zones du code qui ne sont exécutées que sous certaines conditions (que nous verrons plus loin).\n",
    "Ces zones sont appelées périmètres (\"scope\" en anglais) et sont définies par:\n",
    "\n",
    "- la présence d'un double-point \":\" dans la ligne avant cette zone, et\n",
    "- une indentation de la zone du code.\n",
    "\n",
    "L'exemple ci-dessous montre les principaux éléments définissant un scope.\n",
    "\n",
    "```python\n",
    "<mot-clé> (<condition>):\n",
    "    # debut du perimetre\n",
    "    <opérations>\n",
    "    # fin du perimetre\n",
    "```\n",
    "\n",
    "Un point important est que les variables définies à l'intérieur d'un scope ne sont valables que dans ce scope et n'existent plus en dehors de ce scope.\n",
    "De la sorte, les variables définies directement dans le scope principal sont dites *gloables* et donc accessibles dans tous les scopes contenus dans le scope principal.\n",
    "Enfin, les scopes peuvent être insérés les uns dans les autres.\n",
    "\n",
    "(content:motsclés)=\n",
    "## Mots-clés définissant des scopes\n",
    "\n",
    "Voici quelques uns des mots-clés définissant des scopes:\n",
    "\n",
    "- ```if/elif/else```: ces trois mots-clés permettent de définir des tests et de faire des opérations spécifiques selon les résultats de ces opérations (voir Section [](content:ifelifelse)),\n",
    "- ```for```: il permet de créer des scopes répétés un nombre de fois défini par une condition (voir Section [](content:for)),\n",
    "- ```while```: il permet de créer des scopes répétés tant que la condition est vraie (voir Section [](content:while)),\n",
    "- ```def```: il permet de définir des fonctions (voir Section [](content:fonction)).\n",
    "\n",
    "(content:ifelifelse)=\n",
    "## If/Elif/Else\n",
    "\n",
    "Un des scopes les plus utiles en Python est le ```if```.\n",
    "Le code à l'intérieur du scope n'est exécuté que si la valeur de la condition est ```True```."
   ]
  },
  {
   "cell_type": "code",
   "execution_count": null,
   "metadata": {},
   "outputs": [],
   "source": [
    "#définir 3 variables:\n",
    "a = 2 \n",
    "b = 3\n",
    "c = 4\n",
    "if b > a: #True\n",
    "  print(\"b est plus grand que a\")\n",
    "if c < a: #False\n",
    "  print(\"c est plus petit que a\")\n",
    "if 2*a == c: #True\n",
    "  print(\"2a est egal a c\")"
   ]
  },
  {
   "attachments": {},
   "cell_type": "markdown",
   "metadata": {},
   "source": [
    "Dans cet exemple on compare les valeurs de plusieurs variables avec les opérateurs de comparaison ou bien celui d'égalité (```==```) et on imprime une phrase selon le résultat de la comparaison.\n",
    "Il est bien sur possible de comparer d'autres variables comme des strings, utiliser le mot-clé ```elif``` pour faire des tests au cas ou le premier ```if``` soit faux ou bien d'avoir des conditions plus complexes grâce aux mots-clés ```and``` et ```or```."
   ]
  },
  {
   "cell_type": "code",
   "execution_count": null,
   "metadata": {},
   "outputs": [],
   "source": [
    "couleur = \"marron\"\n",
    "taille = \"petit\"\n",
    "# qui suis-je?\n",
    "if couleur == \"vert\" and taille == \"grand\":\n",
    "    print(\"Geant vert...\")\n",
    "elif couleur == \"marron\" and taille == \"petit\":\n",
    "    print(\"Un marron!\")\n",
    "else:\n",
    "    print(\"C'est une colle\")"
   ]
  },
  {
   "attachments": {},
   "cell_type": "markdown",
   "metadata": {},
   "source": [
    "Dans le cas de dictionaires, il est parfois utile de vérifier qu'une clé est présente dans un dictionnaire avant de faire quelque chose avec.\n",
    "Pour cela on peut tester si une clé est présente dans la liste des clés du dictionaire en utilisant le mot-clé ```in``` et la méthode ```keys()```."
   ]
  },
  {
   "cell_type": "code",
   "execution_count": null,
   "metadata": {},
   "outputs": [],
   "source": [
    "dictionaire = {\"chat\": 1, \"chien\": 0}\n",
    "if \"chat\" in dictionaire.keys():\n",
    "    print(\"Le nombre de chat que j'ai est\", dictionaire[\"chat\"])"
   ]
  },
  {
   "attachments": {},
   "cell_type": "markdown",
   "metadata": {},
   "source": [
    "(content:for)=\n",
    "## Boucle for\n",
    "\n",
    "Le besoin de répéter des opérations a engendré le concept de *boucle*.\n",
    "La plus célèbre est la boucle ```for``` qui répète les opérations contenues dans le scope.\n",
    "Le type de répétition le plus exploité est la répétition sur les éléments d'une liste."
   ]
  },
  {
   "cell_type": "code",
   "execution_count": null,
   "metadata": {},
   "outputs": [],
   "source": [
    "radii=[0.9,1.0,0.95,1.1,1.2,1.0,0.8,0.85,1.05,1.0]\n",
    "for r in radii:\n",
    "  print(\"r =\",r)"
   ]
  },
  {
   "attachments": {},
   "cell_type": "markdown",
   "metadata": {},
   "source": [
    "Dans cette exemple, pour chaque élément noté ```r``` de la liste ```radii```, on va afficher la valeur de ```r```.\n",
    "Pour cela la condition ```r in radii``` créé bien une variable ```r``` qui existe dans le scope et disparait en dehors.\n",
    "A chaque fois que le contenu du scope est exécuté une fois, une nouvelle valeur de ```r``` est assignée en suivant l'ordre dans la liste ```radii``` et le contenu du scope est répété avec cette nouvelle valeur.\n",
    "\n",
    "Parfois on n'a pas de liste à utiliser comme condition; c'est pourquoi on va utiliser la fonction ```range()``` qui va remplacer la liste."
   ]
  },
  {
   "cell_type": "code",
   "execution_count": null,
   "metadata": {},
   "outputs": [],
   "source": [
    "radii=[0.9,1.0,0.95,1.1,1.2,1.0,0.8,0.85,1.05,1.0]\n",
    "n = len(radii)\n",
    "for index in range(n):\n",
    "  #l'index de la variable va avoir les valeurs 0..9\n",
    "  print(\"Element\",index,\"a pour valeur:\", radii[index])"
   ]
  },
  {
   "attachments": {},
   "cell_type": "markdown",
   "metadata": {},
   "source": [
    "On remarque que cette fonction ```range()``` donnera une liste de la taille donnée par l'argument commencant toujours à 0. \n",
    "\n",
    "````{exercise}\n",
    ":label: for-2-lists\n",
    "Utiliser une boucle for qui va créer deux listes, une contenant tous nombres entiers entre 1 et 10 et  l'autre ces mêmes nombres entiers au carré.\n",
    "````\n",
    "\n",
    "````{solution} for-2-lists\n",
    ":class: dropdown\n",
    "\n",
    "```{code-block} python\n",
    "numbers=[]\n",
    "squares=[]\n",
    "for index in range(10):\n",
    "  x=index+1 # il faut decaler de 1 puisque index commence a 0\n",
    "  numbers.append(x)\n",
    "  squares.append(x*x)\n",
    "print(\"les nombres sont:\",numbers)\n",
    "print(\"les carres sont:\",squares)\n",
    "```\n",
    "````\n",
    "\n",
    "Dans le cas de dictionnaires, on peut utiliser la méthode ```items()``` pour accéder recursivement à tous les éléments d'un dictionnaire.\n"
   ]
  },
  {
   "cell_type": "code",
   "execution_count": null,
   "metadata": {},
   "outputs": [],
   "source": [
    "annuaire = {'Laurent': 6389565, 'Paul': 6356785, 'Jacques': 6356795}\n",
    "for key, value in annuaire.items():\n",
    "    print(key, value)"
   ]
  },
  {
   "attachments": {},
   "cell_type": "markdown",
   "metadata": {},
   "source": [
    "````{exercise}\n",
    ":label: transport-liste\n",
    "On se donne un dictionaire contenant le nombre de kilomètres parcourus pour certains moyens de transport ```{\"pied\": 200, \"vélo\": 50, \"voiture\":310}```; on souhaite afficher les kilomètres pour les moyens de transport dans la liste\\\\ ```[\"voiture\", \"velo\", \"train\", \"avion\"]``` et un message \"Pas de kilomètres en {moyen de transport}\" lorsqu'il n'y a pas de valeur pour ce moyen de transport dans le dictionaire.\n",
    "````\n",
    "\n",
    "````{solution} transport-liste\n",
    ":class: dropdown\n",
    "\n",
    "```{code-block} python\n",
    "transport_km = {\"pied\": 200, \"velo\": 50, \"voiture\":310}\n",
    "liste = [\"voiture\", \"velo\", \"train\", \"avion\"]\n",
    "for moyen in liste:\n",
    "    if moyen in transport_km.keys():\n",
    "        print(moyen,transport_km[moyen],\"km\")\n",
    "    else:\n",
    "        print(\"Pas de kilomètres en\",moyen)\n",
    "```\n",
    "````\n",
    "(content:while)=\n",
    "## Boucle while\n",
    "\n",
    "La boucle ```while``` reprend l'idée de la boucle ```for```, sauf que la condition de répétition n'est pas forcément la lecture récursive des élements d'une liste.\n",
    "La boucle ```while``` répète les opérations définies dans son scope tant que la condition est vraie.\n",
    "Par exemple, on peut créer une boucle ```for``` à partir d'une boucle ```while```.\n"
   ]
  },
  {
   "cell_type": "code",
   "execution_count": null,
   "metadata": {},
   "outputs": [],
   "source": [
    "radii=[0.9,1.0,0.95,1.1,1.2,1.0,0.8,0.85,1.05,1.0]\n",
    "i = 0\n",
    "while i<len(radii):\n",
    "  print(\"Element\",i,\"a pour valeur:\", radii[i])\n",
    "  i += 1\n"
   ]
  },
  {
   "attachments": {},
   "cell_type": "markdown",
   "metadata": {},
   "source": [
    "La boucle ```while``` est très intéressante pour des conditions plus complexes, c'est-à-dire lorsqu'il faut répéter les opérations tant qu'une ou plusieurs conditions ne sont pas remplies."
   ]
  },
  {
   "cell_type": "code",
   "execution_count": null,
   "metadata": {},
   "outputs": [],
   "source": [
    "import random\n",
    "i = 1\n",
    "valeur = random.random()\n",
    "while (valeur > 0.1 and i <= 5) or i <= 2:\n",
    "  print('%.3f' % valeur)\n",
    "  i += 1\n",
    "  valeur = random.random()\n",
    "print(\"Valeur\", i, \"au dessus de 0.1:\", valeur)\n"
   ]
  },
  {
   "attachments": {},
   "cell_type": "markdown",
   "metadata": {},
   "source": [
    "Dans l'exemple ci-dessus, la condition est composée de plusieurs tests: la boucle continue d'être exécutée tant que l'incrément ```i``` est plus petit que 2 ou bien tant que, pour les tirages suivants (entre le troisième et le cinquième) la valeur tirée au hasard est plus grande que 0.1; au delà, pour ```i>=6```, la boucle doit s'arrêter.\n",
    "\n",
    "(content:fonction)=\n",
    "## Fonctions\n",
    "\n",
    "Jusqu'à présent nous avons vu quelques fonctions: ```range()```, ```print()```, ```len()```, ```format()```...\n",
    "Les fonctions peuvent prendre des arguments en entrée (ce n'est pas toujours le cas), effectuer des opérations à partir de ces arguments (la plupart du temps) et donner en sortie d'autres variables (ce n'est pas toujours le cas non plus...).\n",
    "L'intérêt des fonctions est double: une fois définies, on peut les utiliser autant de fois que nécessaire en évitant ainsi de réécrire plusieurs fois le même code et de rendre le code plus lisible.\n",
    "\n",
    "Les fonctions se définissent en utilisant le mot-clé ```def``` suivi du nom de la fonction et de ses arguments entre parenthèses.\n",
    "Ensuite les opérations que doit faire fonction sont définies dans un scope.\n",
    "\n",
    "```python\n",
    "def affine(a):\n",
    "    b = 2*a + 1\n",
    "    return b\n",
    "```\n",
    "La fonction ```affine(a)``` définie ci-dessus prend en entrée une variable (notée ```a```).\n",
    "Elle calcule au sein de son scope ```2*a+1``` et retourne cette valeur grâce au mot-clé ```return```.\n",
    "Elle pourrait cependant en retourner plusieurs valeurs en utilisant des virgules comme séparateurs [^tuple].\n"
   ]
  },
  {
   "cell_type": "code",
   "execution_count": null,
   "metadata": {},
   "outputs": [],
   "source": [
    "def calculator(a):\n",
    "    b = 2*a + 1\n",
    "    c = a*a +4\n",
    "    return b,c\n",
    "print(\"Valeurs calculées avec 4:\",calculator(4))"
   ]
  },
  {
   "attachments": {},
   "cell_type": "markdown",
   "metadata": {},
   "source": [
    "Même si le scope de la fonction ```affine()``` est extrêmement simple, les fonctions que l'on peut définir peuvent être aussi compliquées que l'on souhaite.\n",
    "Elles peuvent contenir des boucles ```for```, des ```if``` ou encore d'autres fonctions."
   ]
  },
  {
   "cell_type": "code",
   "execution_count": null,
   "metadata": {},
   "outputs": [],
   "source": [
    "def Saluer(un_nom):\n",
    "    print(\"Salut\",un_nom,\"!\")\n",
    "\n",
    "def SaluerToutLeMonde(liste):\n",
    "    for nom in liste: # boucle for sur les noms\n",
    "        Saluer(nom)\n",
    "\n",
    "# Tester la fonction\n",
    "liste_noms = [\"Audrey\", \"Arthur\", \"Emile\", \"Baptiste\"]\n",
    "SaluerToutLeMonde(liste_noms)"
   ]
  },
  {
   "attachments": {},
   "cell_type": "markdown",
   "metadata": {},
   "source": [
    "Dans l'exemple ci-dessus, nous avons défini deux fonctions: la première prend en entrée le nom d'une personne et sert à afficher le \"salut\" avec le nom donné en entrée.\n",
    "La deuxième fonction ```SaluerToutLeMonde()``` prend en entrée une liste de noms et salue tout les noms de cette liste.\n",
    "On peut voir que dans les deux cas, ces fonctions ne retournent pas de valeur.\n",
    "\n",
    "Un point important est que toutes les variables définies au sein d'un scope n'existent qu'au sein du scope.\n",
    "Notamment cela permet d'utiliser une fonction à l'intérieur de son propre scope."
   ]
  },
  {
   "cell_type": "code",
   "execution_count": null,
   "metadata": {},
   "outputs": [],
   "source": [
    "def EnleverUn(a):\n",
    "    if a>=1: # a est trop grand, on doit lui enlever un et recommencer\n",
    "        print(\"Enlever un à \",a)\n",
    "        a=a-1\n",
    "        return EnleverUn(a)\n",
    "    else: # a est strictement plus petit que 1\n",
    "        return a\n",
    "\n",
    "# Tester la fonction sur le nombre 4\n",
    "b = EnleverUn(4)\n",
    "print(\"Valeur finale:\",b)"
   ]
  },
  {
   "attachments": {},
   "cell_type": "markdown",
   "metadata": {},
   "source": [
    "Dans l'exemple ci-dessus on définit une fonction ```EnleverUn()``` qui retire 1 à la valeur d'entrée si celle-ci est plus grande que 1.\n",
    "Elle recommence ce processus jusqu'à ce que la valeur d'entrée soit inférieur à 1.\n",
    "Cette fonction peut être dite *récursive* puisqu'elle s'appelle elle-même à l'intérieur de son scope.\n",
    "Les fonctions récursives sont très intéressantes, mais elles doivent contenir un moyen de briser la récursivité: dans l'exemple ci-dessus, il s'agit du ```else``` qui permet de retourner la valeur ```a``` et non ```EnlverUn(a)```.\n",
    "\n",
    "On peut voir que cette séquence d'action utilisant des fonctions récursives est équivalente à une boucle ```for``` ou ```while``` comme donné ci-dessous.\n"
   ]
  },
  {
   "cell_type": "code",
   "execution_count": null,
   "metadata": {},
   "outputs": [],
   "source": [
    "a = 4\n",
    "while a >= 1:\n",
    "    print(\"Enlever un à \",a)\n",
    "    a = a-1\n",
    "print(\"Valeur finale:\",a)"
   ]
  },
  {
   "attachments": {},
   "cell_type": "markdown",
   "metadata": {},
   "source": [
    "````{exercise}\n",
    ":label: factoriel\n",
    "Calculer le factoriel de 13 à l'aide d'une fonction récursive (voir la section \"Fonctions\" du polycopié).\n",
    "````\n",
    "\n",
    "````{solution} factoriel\n",
    ":class: dropdown\n",
    "```{code-block} python\n",
    "def factoriel(n):\n",
    "    if n == 1:\n",
    "        return 1\n",
    "    else:\n",
    "        return n * factoriel(n-1)\n",
    "\n",
    "print(\"factoriel(13):\", factoriel(13))\n",
    "```\n",
    "````\n"
   ]
  },
  {
   "cell_type": "code",
   "execution_count": null,
   "metadata": {
    "tags": [
     "remove-input",
     "hide-output"
    ]
   },
   "outputs": [],
   "source": [
    "def factoriel(n):\n",
    "    if n == 1:\n",
    "        return 1\n",
    "    else:\n",
    "        return n * factoriel(n-1)\n",
    "\n",
    "print(\"factoriel(13):\", factoriel(13))"
   ]
  },
  {
   "attachments": {},
   "cell_type": "markdown",
   "metadata": {},
   "source": [
    "````{exercise}\n",
    ":label: prime-numbers\n",
    "Créer une fonction qui vérifie si un nombre $N$ est premier ou non et utiliser cette fonction pour calculer les 10 premiers nombres premiers.\n",
    "Pour cela, on peut regarder le reste de la division euclidienne de $N$ par tous les nombres entre 2 et $\\sqrt{N}$.\n",
    "Si le reste est nul, alors ce n'est pas un nombre premier.\n",
    "````\n",
    "\n",
    "````{solution} prime-numbers\n",
    ":class: dropdown\n",
    "```{code-block} python\n",
    "from math import sqrt\n",
    "\n",
    "def premier(n):\n",
    "    max_n = int(sqrt(n)) # conversion de sqrt en nombre entier\n",
    "    for i in range(2, max_n+1): # test des nombres jusqu'à int(sqrt(n))\n",
    "        if n % i == 0: # reste division euclidienne == 0?\n",
    "            return False\n",
    "    return True\n",
    "\n",
    "print(\"13 est premier?\", premier(13))\n",
    "print(\"169 est premier?\", premier(169))\n",
    "print(\"997 est premier?\", premier(997))\n",
    "```\n",
    "````"
   ]
  },
  {
   "cell_type": "code",
   "execution_count": null,
   "metadata": {
    "tags": [
     "remove-input",
     "hide-output"
    ]
   },
   "outputs": [],
   "source": [
    "from math import sqrt\n",
    "\n",
    "def premier(n):\n",
    "    max_n = int(sqrt(n)) # conversion de sqrt en nombre entier\n",
    "    for i in range(2, max_n+1): # test des nombres jusqu'à int(sqrt(n))\n",
    "        if n % i == 0: # reste division euclidienne == 0?\n",
    "            return False\n",
    "    return True\n",
    "\n",
    "print(\"13 est premier?\", premier(13))\n",
    "print(\"169 est premier?\", premier(169))\n",
    "print(\"997 est premier?\", premier(997))"
   ]
  },
  {
   "cell_type": "markdown",
   "metadata": {},
   "source": [
    "\n",
    "\n",
    "[^tuple]: En réalité, Python rassemble les deux valeurs dans un *tuple* et retourne ce tuple. Cependant la flexibilité de Python dans son syle d'écriture permet de faire comme si la fonction retournait deux valeurs."
   ]
  }
 ],
 "metadata": {
  "kernelspec": {
   "display_name": "Python 3",
   "language": "python",
   "name": "python3"
  },
  "language_info": {
   "name": "python",
   "version": "3.11.0 (main, Oct 25 2022, 13:57:33) [Clang 14.0.0 (clang-1400.0.29.202)]"
  },
  "orig_nbformat": 4,
  "vscode": {
   "interpreter": {
    "hash": "5c7b89af1651d0b8571dde13640ecdccf7d5a6204171d6ab33e7c296e100e08a"
   }
  }
 },
 "nbformat": 4,
 "nbformat_minor": 2
}
