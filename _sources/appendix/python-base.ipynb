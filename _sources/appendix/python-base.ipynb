{
 "cells": [
  {
   "attachments": {},
   "cell_type": "markdown",
   "metadata": {},
   "source": [
    "# Les bases\n",
    "Cette section présente les bases de la synthax de Python.\n",
    "\n",
    "## Les principes\n",
    "\n",
    "Python, apparu dans les années 1990, est un langage de programmation généraliste et interprété: le programme écrit par l'utilisateur est lu et exécuté ligne par ligne sans compilation [^diff-C].\n",
    "La version 3 de Python a été mise en place en 2008 avec des releases régulières, l'une des dernières releases étant la version 3.9.0b4 en juillet 2020.\n",
    "Python est utilisé très largement par la communauté scientifique, des grandes entreprises comme Google et Amazon et dans de nombreux sites web ou logiciels comme Reddit et LibreOffice.\n",
    "\n",
    "Python se caractérise par une synthaxe épurée et lisible avec une indentation, des mots-clés spécifiques (```if```, ```for```, ```while```...) et la possibilité de faire de la programmation objet avec plus de flexibilités que dans d'autres langages orientés objets (comme C++)."
   ]
  },
  {
   "cell_type": "code",
   "execution_count": null,
   "metadata": {
    "tags": []
   },
   "outputs": [],
   "source": [
    "# Definition de l'annuaire\n",
    "unAnnuaire = {'Laurent': 6389565, 'Paul': 6356785}\n",
    "# Affichage des noms et numeros de telephone\n",
    "for unNom, x in unAnnuaire.items(): # boucle for lisant le contenu de unAnnuaire\n",
    "   print(\"le nom {} a pour numero de telephone {}\".format(unNom, x))"
   ]
  },
  {
   "attachments": {},
   "cell_type": "markdown",
   "metadata": {},
   "source": [
    "Dans ce code, toutes les lignes commençant par un \"#\" ne sont pas évaluées; cet fonctionalité est très utilisé pour commenter le texte, c'est-à-dire apporter des informations supplémentaires pour pouvoir comprendre le code\n",
    "Ces commentaires peuvent aussi apparaitre à la fin de ligne de code (toujours après un \"\\#\").\n",
    "\n",
    "```{warning} Important\n",
    "Nous n'insisterons jamais assez sur l'utilité de commenter son code, que ce soit lorsque ce code est personnel ou bien partagé avec d'autres personnes.\n",
    "En effet, il est très fréquent d'oublier la logique qui a été implémentée dans un code si celui-ci n'est pas commenté ou pire mal commenté!\n",
    "```\n",
    "\n",
    "## Variables et assignation de valeurs\n",
    "\n",
    "En Python, on utilise des *variables* auxquelles on va pouvoir associer des valeurs.\n",
    "On peut se représenter les variables comme des addresses dans la mémoire de l'ordinateur dans lequelles on peut sauver une valeur: il faut donc d'abord créer la variable dans la mémoire puis lui assigner une valeur grâce à l'*opérateur d'attribution* ```=```."
   ]
  },
  {
   "cell_type": "code",
   "execution_count": null,
   "metadata": {},
   "outputs": [],
   "source": [
    "a = 2"
   ]
  },
  {
   "attachments": {},
   "cell_type": "markdown",
   "metadata": {},
   "source": [
    "Ici on a définit une variable ```a``` et on lui a assigné la valeur entière 2 grâce à ```=```.\n",
    "Notons ici qu'il est possible d'assigner d'autres choses aux variables, comme des nombres décimaux [^diff-int-dec], des morceaux de textes ou bien des listes (voir Section [](content:liste)).\n",
    "\n",
    "On peut alors accéder à cette variable et obtenir la valeur qu'elle contient pour par exemple l'utiliser pour créer d'autres variables:"
   ]
  },
  {
   "cell_type": "code",
   "execution_count": null,
   "metadata": {},
   "outputs": [],
   "source": [
    "a = 2\n",
    "b = 2*a"
   ]
  },
  {
   "attachments": {},
   "cell_type": "markdown",
   "metadata": {},
   "source": [
    "Ici, la première ligne de code créé la variable ```a``` et lui assigne la valeur 2; la deuxième ligne créé une autre variable ```b``` et lui assigne la valeur ```2*a``` (donc 4): pour cela, Python va récupérer la valeur contenue par ```a``` et la multiplier par 2.\n",
    "\n",
    "Contrairement à d'autres langages de programmation, il n'est pas nécessaire de définir le type de la variable: Python reconnait que 2 est un entier et donc va traiter ```a``` comme tel.\n",
    "Cela permet beaucoup de flexibilités lors de l'assignement d'une valeur à des variables.\n",
    "\n",
    "Dans les deux exemples ci-dessus, nous avons défini des noms de variables très simples (```a``` et ```b```); il est possible de définir des nombres de variables plus complexes et portant plus de sens:"
   ]
  },
  {
   "cell_type": "code",
   "execution_count": null,
   "metadata": {},
   "outputs": [],
   "source": [
    "treize = 13\n",
    "nb_jour_par_an = 365\n",
    "deuxfois2 = 4"
   ]
  },
  {
   "attachments": {},
   "cell_type": "markdown",
   "metadata": {},
   "source": [
    "Les noms de variables peuvent contenir certains caractères spéciaux [^minus] (comme ```_```) ou bien des chiffres (tant que le nom de la variable ne commence pas par un chiffre) [^french].\n",
    "\n",
    "## Impression à l'écran\n",
    "\n",
    "Il est possible d'afficher la valeur d'une variable grâce à la fonction ```print()```."
   ]
  },
  {
   "cell_type": "code",
   "execution_count": null,
   "metadata": {},
   "outputs": [],
   "source": [
    "a = 2\n",
    "b = 2*a\n",
    "print(b)"
   ]
  },
  {
   "attachments": {},
   "cell_type": "markdown",
   "metadata": {},
   "source": [
    "Cette fonction ```print(b)``` va afficher à l'écran la valeur de la variable donnée comme *argument* (ici ```b``` et donc 4).\n",
    "Cette fonction peut prendre autant d'arguments que désiré et afficher toutes les valeurs."
   ]
  },
  {
   "cell_type": "code",
   "execution_count": null,
   "metadata": {},
   "outputs": [],
   "source": [
    "a = 2\n",
    "b = 2*a\n",
    "print(\"a vaut\", a, \"et b vaut\",b)   "
   ]
  },
  {
   "attachments": {},
   "cell_type": "markdown",
   "metadata": {},
   "source": [
    "Ici, on donne à la fonction ```print()``` 4 arguments.\n",
    "Les second et quatrième arguments sont des entiers, tandis que les premier et troisième arguments ```\"a vaut\"``` et ```\"et b vaut\"``` sont des *chaînes de caractères* ou *string* qui sont données entre guillemets afin que Python ne les confonde pas avec des variables.\n",
    "La fonction ```print()``` prend donc en entrée 4 arguments et affiche tous les valeurs des arguments un par un.\n",
    "\n",
    "La fonction ```print()``` peut afficher différents types de variables, et notamment des listes (voir Section [](content:liste).\n",
    "\n",
    "Avec les nombres décimaux, il est parfois utile de formatter le nombre de décimales à afficher.\n",
    "Pour cela, il existe la méthode ```format()``` qui s'applique sur un string:"
   ]
  },
  {
   "cell_type": "code",
   "execution_count": null,
   "metadata": {},
   "outputs": [],
   "source": [
    "a = 2. \n",
    "b = 3./2.\n",
    "c = 2./3.\n",
    "print(\"arrondi(a)={:.1f}, arrondi(b)= {:.2f}, arrondi(c)={:.4f}\".format(a,b,c))"
   ]
  },
  {
   "attachments": {},
   "cell_type": "markdown",
   "metadata": {},
   "source": [
    "La méthode ```format()``` s'applique sur un *modèle de string* contenant des paires d'accolades; les arguments donnés à la méthode ```format()``` sont utilisés pour \"remplacer\" les paires d'accolades une par une.\n",
    "Ces paires d'accolades peuvent être vide (comme dans le tout premier exemple; à ce moment-là il n'y a pas de formattage particulier appliqué) ou bien définir le format de la valeur à imprimer.\n",
    "Une paire d'accolades ```{:.1f}``` va afficher seulement un chiffre après la virgule alors que ```{:.4f}``` va en afficher 4.\n",
    "\n",
    "[^diff-C]: Contrairement aux programmes en langage C ou C++ qui eux ont besoin d'être compilés en langage machine pour ensuite être exécutés.\n",
    "\n",
    "[^diff-int-dec]: La différence entre des nombres entiers et décimaux est la présence du point: si une valeur numérique sans point est assignée à une variable (par exemple, 10), Python considèrera selon comme un nombre entier, alors que les nombres $10.$ ou $10.0$ seront considérés comme des nombres décimaux.\n",
    "Il est donc important de bien placer un point lorsque la valeur désiré est un nombre décimal.\n",
    "\n",
    "[^minus]: Le signe ```-``` ne peut être contenu dans le nom d'une variable, car il se confond avec le signe de la soustraction.\n",
    "[^french]: Notons ici que, Python n'étant pas écrit majoritairement par des francophones, les symboles comme \"é\" ou \"à\" ne sont pas interprétés dans le code comme dans des commentaires..."
   ]
  },
  {
   "cell_type": "markdown",
   "metadata": {},
   "source": []
  }
 ],
 "metadata": {
  "kernelspec": {
   "display_name": "Python 3",
   "language": "python",
   "name": "python3"
  },
  "language_info": {
   "name": "python",
   "version": "3.11.0 (main, Oct 25 2022, 13:57:33) [Clang 14.0.0 (clang-1400.0.29.202)]"
  },
  "orig_nbformat": 4,
  "vscode": {
   "interpreter": {
    "hash": "5c7b89af1651d0b8571dde13640ecdccf7d5a6204171d6ab33e7c296e100e08a"
   }
  }
 },
 "nbformat": 4,
 "nbformat_minor": 2
}
