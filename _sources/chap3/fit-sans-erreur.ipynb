{
 "cells": [
  {
   "attachments": {},
   "cell_type": "markdown",
   "metadata": {},
   "source": [
    "(content:fit-no-error)=\n",
    "# Ajustement avec des données sans erreurs\n",
    "\n",
    "S'il s'agit de réduire l'écart entre $N$ points de données $\\left\\{y_i\\right\\}$ obtenus pour des valeurs $\\left\\{x_i\\right\\}$ et le modèle $f$ évalué au valeurs $\\left\\{x_i\\right\\}$, une quantité possible [^Excel] est:\n",
    "\\begin{equation}\n",
    "    R^2 =  1- \\frac{\\sum _{i=1}^N\\left(f(x_i; \\alpha,\\beta,...) - y_i\\right)^2}{\\sum _{i=1}^N\\left(\\bar{y}-y_i\\right)^2},\n",
    "\\end{equation}\n",
    "où $\\bar{y}$ est la moyenne des mesures $\\left\\{y_i\\right\\}$.\n",
    "Cette quantité $R^2$ est appelée **coefficient de détermination** et est sans unité.\n",
    "Le numérateur correspond à la variance total des données par rapport au modèle et le dénominateur à celle des données par rapport à leur moyenne: pour un jeu de données fixé, le dénominateur est constant.\n",
    "Puisque les valeurs de $x_i$ et $y_i$ sont fixées, la fonction $R^2$ dépend effectivement uniquement des paramètres $\\alpha$, $\\beta$... de la fonction $f$.\n",
    "\n",
    "L'objectif est alors de trouver les valeurs de $\\alpha$, $\\beta$... qui minimisent la quantité $R^2$ et donc réduire l'écart quadratique entre le modèle et les données.\n",
    "Pour cela, on peut utiliser la librairie ```scipy.optimize``` qui contient des fonctions permettant de faire ce type de minimisation.\n",
    "Notamment, ```scipy.optimize.curve_fit``` permet de faire des ajustements pour des modèles $f$ quelconques alors que ```scipy.optimize.linregress``` permet de faire des ajustements pour des modèles de la forme $f(x) = a\\times x+b$.\n",
    "La valeur de $R^2$ obtenue pour les valeurs de paramètres qui la minimisent permet d'avoir un ordre de grandeur de la qualité de l'ajustement: l'ajustement d'un modèle présentant un $R^2$ minimal loin de 1 est moins bon que celui pour lequel $R^2\\approx 1$."
   ]
  },
  {
   "attachments": {},
   "cell_type": "markdown",
   "metadata": {},
   "source": [
    "````{admonition} Exemple: Ajustement linéaire simple\n",
    "On considère des données sous la forme du tableau ci-dessous:\n",
    "\n",
    "```{table} Jeu de données linéaires\n",
    ":name: tab-linear-data\n",
    "| $x_i$|$y_i$|\n",
    "|------|-----|\n",
    "| 1.0  | 1.2 |\n",
    "| 2.0  | 1.6 |\n",
    "| 3.0  | 1.7 |\n",
    "| 4.0  | 2.2 |\n",
    "| 5.0  | 2.3 |\n",
    "| 6.0  | 2.4 |\n",
    "| 7.0  | 3.1 |\n",
    "| 8.0  | 3.3 |\n",
    "| 9.0  | 3.1 |\n",
    "| 10.0 | 3.7 |\n",
    "```\n",
    "\n",
    "Il s'agit de paires de deux mesures $x_i$ et $y_i$ reliées par la relation: \n",
    "\\begin{equation}\n",
    "    y_i = a\\times x_i + b.\n",
    "\\end{equation}\n",
    "\n",
    "Le coefficient de détermination que l'on va minimiser vaut:\n",
    "\\begin{equation}\n",
    "    R^2 =  1- \\frac{\\sum _{i=1}^N\\left(a\\times x_i+b - y_i\\right)^2}{\\sum _{i=1}^N\\left(\\bar{y}-y_i\\right)^2}.\n",
    "\\end{equation}\n",
    "\n",
    "Le graphique ci-dessus montre que le modèle  s'ajuste bien aux données; le coefficient de détermination $R^2$ obtenu vaut 0.96. \n",
    "````"
   ]
  },
  {
   "cell_type": "code",
   "execution_count": 1,
   "metadata": {
    "tags": [
     "hide-input"
    ]
   },
   "outputs": [
    {
     "ename": "ModuleNotFoundError",
     "evalue": "No module named 'scipy'",
     "output_type": "error",
     "traceback": [
      "\u001b[0;31m---------------------------------------------------------------------------\u001b[0m",
      "\u001b[0;31mModuleNotFoundError\u001b[0m                       Traceback (most recent call last)",
      "Cell \u001b[0;32mIn[1], line 1\u001b[0m\n\u001b[0;32m----> 1\u001b[0m \u001b[39mfrom\u001b[39;00m \u001b[39mscipy\u001b[39;00m\u001b[39m.\u001b[39;00m\u001b[39mstats\u001b[39;00m \u001b[39mimport\u001b[39;00m linregress\n\u001b[1;32m      2\u001b[0m \u001b[39mimport\u001b[39;00m \u001b[39mnumpy\u001b[39;00m \u001b[39mas\u001b[39;00m \u001b[39mnp\u001b[39;00m\n\u001b[1;32m      3\u001b[0m \u001b[39mimport\u001b[39;00m \u001b[39mmatplotlib\u001b[39;00m\u001b[39m.\u001b[39;00m\u001b[39mpyplot\u001b[39;00m \u001b[39mas\u001b[39;00m \u001b[39mplt\u001b[39;00m \u001b[39m# importer maplotlib\u001b[39;00m\n",
      "\u001b[0;31mModuleNotFoundError\u001b[0m: No module named 'scipy'"
     ]
    }
   ],
   "source": [
    "from scipy.stats import linregress\n",
    "import numpy as np\n",
    "import matplotlib.pyplot as plt # importer maplotlib\n",
    "\n",
    "fig, ax = plt.subplots() # creation d'un plot\n",
    "x = np.array([1.0, 2.0, 3.0, 4.0, 5.0, 6.0, 7.0, 8.0, 9.0, 10.0])\n",
    "y = np.array([1.2, 1.6, 1.7, 2.2, 2.3, 2.4, 3.1, 3.3, 3.1, 3.7])\n",
    "\n",
    "pente, intercept, r2, _, _ = linregress(x, y) # regression lineaire\n",
    "print(\"Fonction minimisant R^2: y = {:.2f}*x+{:.2f}\"\n",
    "       .format(pente, intercept))\n",
    "print(\"Valeur de R^2: {:.2f}\".format(r2**2))\n",
    "\n",
    "plt.plot(x, y, 'o', label='données')\n",
    "plt.plot(x, x*pente + intercept, 'r', label='modèle ajusté')\n",
    "ax.set_xlim(left=0.) # choisir xmin = 0\n",
    "ax.set_ylim(bottom=0.) # choisir ymin = 0\n",
    "_ = plt.legend() # affichage legende"
   ]
  },
  {
   "cell_type": "markdown",
   "metadata": {},
   "source": [
    "\n",
    "\n",
    "Le coefficient de détermination $R^2$ correspond à la corrélation entre les valeurs prédites par le modèle et les données obtenues: c'est donc un bon indicateur pour l'accord entre des données et un modèle, notamment dans le cas où l'on n'a pas d'erreurs sur les points de données.\n",
    "\n",
    "[^Excel]: L'ajustement de données utilisé par le logiciel Excel utilise cette quantité.\n"
   ]
  }
 ],
 "metadata": {
  "kernelspec": {
   "display_name": "Python 3",
   "language": "python",
   "name": "python3"
  },
  "language_info": {
   "codemirror_mode": {
    "name": "ipython",
    "version": 3
   },
   "file_extension": ".py",
   "mimetype": "text/x-python",
   "name": "python",
   "nbconvert_exporter": "python",
   "pygments_lexer": "ipython3",
   "version": "3.11.0"
  },
  "orig_nbformat": 4,
  "vscode": {
   "interpreter": {
    "hash": "5c7b89af1651d0b8571dde13640ecdccf7d5a6204171d6ab33e7c296e100e08a"
   }
  }
 },
 "nbformat": 4,
 "nbformat_minor": 2
}
